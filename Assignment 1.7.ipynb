{
 "cells": [
  {
   "cell_type": "code",
   "execution_count": 1,
   "metadata": {},
   "outputs": [
    {
     "name": "stdout",
     "output_type": "stream",
     "text": [
      "prakash mishra\n",
      "arhsim hsakarp"
     ]
    }
   ],
   "source": [
    "Input_words = input()       #asking user for input\n",
    "\n",
    "def rev_usr(usr):           #defining a function\n",
    "    L = len(usr)            \n",
    "    if L <= 1:                \n",
    "        print(usr, end=\"\")\n",
    "    else:\n",
    "        rev_usr(usr[1:])         #initiating recursion\n",
    "        print(usr[0], end=\"\")\n",
    "        \n",
    "rev_usr(Input_words)     #calling function"
   ]
  },
  {
   "cell_type": "code",
   "execution_count": null,
   "metadata": {
    "collapsed": true
   },
   "outputs": [],
   "source": []
  }
 ],
 "metadata": {
  "kernelspec": {
   "display_name": "Python 3",
   "language": "python",
   "name": "python3"
  },
  "language_info": {
   "codemirror_mode": {
    "name": "ipython",
    "version": 3
   },
   "file_extension": ".py",
   "mimetype": "text/x-python",
   "name": "python",
   "nbconvert_exporter": "python",
   "pygments_lexer": "ipython3",
   "version": "3.6.3"
  }
 },
 "nbformat": 4,
 "nbformat_minor": 2
}
